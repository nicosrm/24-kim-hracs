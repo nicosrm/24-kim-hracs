{
 "cells": [
  {
   "cell_type": "markdown",
   "metadata": {},
   "source": [
    "# Plot Result Data"
   ]
  },
  {
   "cell_type": "code",
   "execution_count": 1,
   "metadata": {},
   "outputs": [],
   "source": [
    "import numpy as np\n",
    "import matplotlib\n",
    "import matplotlib.pyplot as plt\n",
    "\n",
    "matplotlib.use('pgf')\n",
    "plt.rcParams['pgf.texsystem'] = 'pdflatex'\n",
    "plt.rcParams['font.family'] = 'serif'\n",
    "plt.rcParams['font.size'] = 14.0\n",
    "plt.rcParams['text.usetex'] = True\n",
    "plt.rcParams['legend.loc'] = 'upper center'\n",
    "plt.rcParams[\"figure.figsize\"] = (8, 5)"
   ]
  },
  {
   "cell_type": "markdown",
   "metadata": {},
   "source": [
    "## Absolute Numbers of Results\n",
    "\n",
    "Data taken from:\n",
    "\n",
    "K. Stenning and M. van Lambalgen, Human Reasoning and Cognitive Science. The MIT Press, 2008. doi: [10.7551/mitpress/7964.001.0001](https://doi.org/10.7551/mitpress/7964.001.0001). ch. 4, sec. 2, p. 109\n",
    "\n",
    "(Table 4.4)\n",
    "\n",
    "Modifications:\n",
    "- Combined some columns to \"Misc.\" column\n",
    "- Translated labels"
   ]
  },
  {
   "cell_type": "code",
   "execution_count": 2,
   "metadata": {},
   "outputs": [],
   "source": [
    "labels = [r'$p,q$', r'$q$', r'$p$', r'$p,q$', r'$\\lnot q$', 'alle', 'keine', 'sonstiges']\n",
    "wason = np.array([50.9, 6.4, 7.3, 3.6, 2.7, 8.2, 7.3, 13.6])\n",
    "two_rule = np.array([21.6, 21.6, 5.4, 2.7, 24.3, 0.0, 5.4, 18.9])\n",
    "contingency = np.array([29.4, 0.0, 5.9, 15.7, 2.0, 5.9, 0.0, 41.2])\n",
    "truthfulness = np.array([34.8, 5.4, 8.0, 12.5, 0.0, 7.1, 13.4, 18.8])\n",
    "conjunction = np.array([44.9, 2.9, 13.0,10.1, 2.9, 0.0, 13.0, 13.0])\n",
    "subjunctive = np.array([41.9, 6.5, 25.8, 9.7, 0.0, 3.2, 0.0, 12.9])"
   ]
  },
  {
   "cell_type": "code",
   "execution_count": 3,
   "metadata": {},
   "outputs": [],
   "source": [
    "r = range(len(labels))\n",
    "width = 0.3"
   ]
  },
  {
   "cell_type": "code",
   "execution_count": 4,
   "metadata": {},
   "outputs": [],
   "source": [
    "plt.bar(r, wason, width=width, align='center', label=r'Wason ($p,\\lnot q$)')\n",
    "plt.bar([i + width for i in r], two_rule, width=width, align='center', label=r'Two-Rule ($\\lnot q$)')\n",
    "plt.bar([i + 2*width for i in r], contingency, width=width, align='center', label=r'Kontingenz ($p,\\lnot q$)')\n",
    "\n",
    "plt.xlabel(r'$\\textbf{Antworten}$')\n",
    "plt.ylabel(r'$\\textbf{Häufigkeiten in \\%}$')\n",
    "plt.legend()\n",
    "\n",
    "plt.xticks([i + width for i in r], labels)\n",
    "\n",
    "plt.savefig('results_contingency.pdf', format='pdf')\n",
    "plt.close()"
   ]
  },
  {
   "cell_type": "code",
   "execution_count": 5,
   "metadata": {},
   "outputs": [],
   "source": [
    "plt.bar(r, wason, width=width, align='center', label=r'Wason ($p,\\lnot q$)')\n",
    "plt.bar([i + width for i in r], two_rule, width=width, align='center', label=r'Two-Rule ($\\lnot q$)')\n",
    "plt.bar([i + 2*width for i in r], truthfulness, width=width, align='center', label=r'Truthfulness ($p,\\lnot q$)')\n",
    "\n",
    "plt.xlabel(r'$\\textbf{Antworten}$')\n",
    "plt.ylabel(r'$\\textbf{Häufigkeiten in \\%}$')\n",
    "plt.legend()\n",
    "\n",
    "plt.xticks([i + width for i in r], labels)\n",
    "\n",
    "plt.savefig('results_truthfulness.pdf', format='pdf')\n",
    "plt.close()"
   ]
  },
  {
   "cell_type": "code",
   "execution_count": 6,
   "metadata": {},
   "outputs": [],
   "source": [
    "plt.bar(r, wason, width=width, align='center', label=r'Wason ($p,\\lnot q$)')\n",
    "plt.bar([i + width for i in r], two_rule, width=width, align='center', label=r'Two-Rule ($\\lnot q$)')\n",
    "plt.bar([i + 2*width for i in r], conjunction, width=width, align='center', label='Konjunktion (keine)')\n",
    "\n",
    "plt.xlabel(r'$\\textbf{Antworten}$')\n",
    "plt.ylabel(r'$\\textbf{Häufigkeiten in \\%}$')\n",
    "plt.legend()\n",
    "\n",
    "plt.xticks([i + width for i in r], labels)\n",
    "\n",
    "plt.savefig('results_conjunction.pdf', format='pdf')\n",
    "plt.close()"
   ]
  },
  {
   "cell_type": "code",
   "execution_count": 7,
   "metadata": {},
   "outputs": [],
   "source": [
    "plt.bar(r, wason, width=width, align='center', label=r'Wason ($p,\\lnot q$)')\n",
    "plt.bar([i + width for i in r], two_rule, width=width, align='center', label=r'Two-Rule ($\\lnot q$)')\n",
    "plt.bar([i + 2*width for i in r], subjunctive, width=width, align='center', label=r'Konjunktivisch ($p,\\lnot q$)')\n",
    "\n",
    "plt.xlabel(r'$\\textbf{Antworten}$')\n",
    "plt.ylabel(r'$\\textbf{Häufigkeiten in \\%}$')\n",
    "plt.legend()\n",
    "\n",
    "plt.xticks([i + width for i in r], labels)\n",
    "\n",
    "plt.savefig('results_subjunctive.pdf', format='pdf')\n",
    "plt.close()"
   ]
  },
  {
   "cell_type": "markdown",
   "metadata": {},
   "source": [
    "## Correct Percentage\n",
    "\n",
    "Data taken from:\n",
    "\n",
    "K. Stenning and M. van Lambalgen, Human Reasoning and Cognitive Science. The MIT Press, 2008. doi: [10.7551/mitpress/7964.001.0001](https://doi.org/10.7551/mitpress/7964.001.0001). ch. 4, sec. 2, p. 101\n",
    "\n",
    "(Table 4.2)"
   ]
  },
  {
   "cell_type": "code",
   "execution_count": 8,
   "metadata": {},
   "outputs": [],
   "source": [
    "labels = ['Wason', 'Two-Rule', 'Kontingenz', 'Truthfulness', 'Konjunktion']\n",
    "data = [3.7, 24, 18, 13, 13]\n",
    "\n",
    "r = range(len(data))"
   ]
  },
  {
   "cell_type": "code",
   "execution_count": 9,
   "metadata": {},
   "outputs": [],
   "source": [
    "plt.bar([i + width for i in r], data, width=width, align='center')\n",
    "plt.xticks([i + width for i in r], labels)\n",
    "\n",
    "plt.xlabel(r'$\\textbf{Manipulation}$')\n",
    "plt.ylabel(r'$\\textbf{Anteil richtiger Antworten in \\%}$')\n",
    "\n",
    "plt.savefig('results_correct.pdf', format='pdf')\n",
    "plt.close()"
   ]
  }
 ],
 "metadata": {
  "kernelspec": {
   "display_name": ".venv",
   "language": "python",
   "name": "python3"
  },
  "language_info": {
   "codemirror_mode": {
    "name": "ipython",
    "version": 3
   },
   "file_extension": ".py",
   "mimetype": "text/x-python",
   "name": "python",
   "nbconvert_exporter": "python",
   "pygments_lexer": "ipython3",
   "version": "3.12.3"
  }
 },
 "nbformat": 4,
 "nbformat_minor": 2
}
